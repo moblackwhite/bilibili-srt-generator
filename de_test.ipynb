{
 "cells": [
  {
   "cell_type": "code",
   "execution_count": 15,
   "outputs": [
    {
     "name": "stdout",
     "output_type": "stream",
     "text": [
      "The autoreload extension is already loaded. To reload it, use:\n",
      "  %reload_ext autoreload\n"
     ]
    }
   ],
   "source": [
    "%load_ext autoreload\n",
    "%autoreload 2"
   ],
   "metadata": {
    "collapsed": false,
    "ExecuteTime": {
     "end_time": "2023-10-31T13:16:10.929876700Z",
     "start_time": "2023-10-31T13:16:10.872040400Z"
    }
   },
   "id": "3362a92c8f411ad1"
  },
  {
   "cell_type": "code",
   "execution_count": 16,
   "id": "initial_id",
   "metadata": {
    "collapsed": true,
    "ExecuteTime": {
     "end_time": "2023-10-31T13:16:10.952056500Z",
     "start_time": "2023-10-31T13:16:10.911568600Z"
    }
   },
   "outputs": [],
   "source": [
    "from selenium import webdriver\n",
    "from bilibili_base_obj import BiliBiliSeries, BiliBiliVideo\n",
    "import re\n"
   ]
  },
  {
   "cell_type": "code",
   "execution_count": 17,
   "outputs": [],
   "source": [
    "from bilibili_audio_downloader import get_information, get_audio"
   ],
   "metadata": {
    "collapsed": false,
    "ExecuteTime": {
     "end_time": "2023-10-31T13:16:11.022286800Z",
     "start_time": "2023-10-31T13:16:10.952056500Z"
    }
   },
   "id": "7dad294027683fc8"
  },
  {
   "cell_type": "code",
   "execution_count": 18,
   "outputs": [],
   "source": [
    "driver = webdriver.Chrome()\n",
    "driver.implicitly_wait(8)  # seconds"
   ],
   "metadata": {
    "collapsed": false,
    "ExecuteTime": {
     "end_time": "2023-10-31T13:16:12.320728400Z",
     "start_time": "2023-10-31T13:16:11.022286800Z"
    }
   },
   "id": "303600772e37a0cc"
  },
  {
   "cell_type": "code",
   "execution_count": 19,
   "outputs": [],
   "source": [
    "bbs = BiliBiliSeries('1567748478', '358497')\n",
    "videos_info = bbs.videos"
   ],
   "metadata": {
    "collapsed": false,
    "ExecuteTime": {
     "end_time": "2023-10-31T13:16:30.836554600Z",
     "start_time": "2023-10-31T13:16:12.322539700Z"
    }
   },
   "id": "a7cac0be220b83ca"
  },
  {
   "cell_type": "code",
   "execution_count": 20,
   "outputs": [],
   "source": [
    "def get_bv_from_url(url):\n",
    "    # regex\n",
    "    pattern = r'/BV([\\w]+)'\n",
    "    match = re.search(pattern, url)\n",
    "    return 'BV' + match.group(1)"
   ],
   "metadata": {
    "collapsed": false,
    "ExecuteTime": {
     "end_time": "2023-10-31T13:16:30.886128300Z",
     "start_time": "2023-10-31T13:16:30.836554600Z"
    }
   },
   "id": "b9276239d3bf7183"
  },
  {
   "cell_type": "code",
   "execution_count": 21,
   "outputs": [],
   "source": [
    "for v_info in videos_info:\n",
    "    url = v_info['href']\n",
    "    bv = get_bv_from_url(url)\n",
    "\n",
    "    video = BiliBiliVideo(bv, driver)\n",
    "    v_info.update(video.sub_video_list)\n",
    "    pass\n"
   ],
   "metadata": {
    "collapsed": false,
    "ExecuteTime": {
     "end_time": "2023-10-31T13:19:54.465963100Z",
     "start_time": "2023-10-31T13:16:30.886618200Z"
    }
   },
   "id": "81c3f1f8bca0881d"
  },
  {
   "cell_type": "code",
   "execution_count": 39,
   "outputs": [],
   "source": [
    "for v_info in videos_info:\n",
    "    bv = get_bv_from_url(v_info['href'])\n",
    "    if v_info['multi_page']:\n",
    "        bv_list = []\n",
    "        sub_title_list = []\n",
    "        for i in range(len(v_info['sub_videos'])):\n",
    "            bv_list.append(bv + '-{}'.format(i))\n",
    "            sub_title_list.append(v_info['sub_videos'][i]['title'])\n",
    "        get_audio(get_information(bv_list), sub_title_list)\n",
    "    else:\n",
    "        get_audio(get_information([bv]))"
   ],
   "metadata": {
    "collapsed": false,
    "ExecuteTime": {
     "end_time": "2023-10-31T14:07:24.470673300Z",
     "start_time": "2023-10-31T14:07:08.953725700Z"
    }
   },
   "id": "91a72ca5a17034bd"
  },
  {
   "cell_type": "code",
   "execution_count": 11,
   "outputs": [],
   "source": [
    "v_info = videos_info[0]"
   ],
   "metadata": {
    "collapsed": false,
    "ExecuteTime": {
     "end_time": "2023-10-31T13:10:38.555455600Z",
     "start_time": "2023-10-31T13:10:38.523927900Z"
    }
   },
   "id": "e951489b9b9298b0"
  },
  {
   "cell_type": "code",
   "execution_count": 13,
   "outputs": [],
   "source": [],
   "metadata": {
    "collapsed": false,
    "ExecuteTime": {
     "end_time": "2023-10-31T13:11:22.579716200Z",
     "start_time": "2023-10-31T13:11:22.534804900Z"
    }
   },
   "id": "a128dc2b5ecd1f2d"
  },
  {
   "cell_type": "code",
   "execution_count": 7,
   "outputs": [
    {
     "data": {
      "text/plain": "76"
     },
     "execution_count": 7,
     "metadata": {},
     "output_type": "execute_result"
    }
   ],
   "source": [],
   "metadata": {
    "collapsed": false,
    "ExecuteTime": {
     "end_time": "2023-10-31T13:00:55.463602400Z",
     "start_time": "2023-10-31T13:00:55.415931600Z"
    }
   },
   "id": "8d9613d13ba6d46c"
  },
  {
   "cell_type": "code",
   "execution_count": 7,
   "outputs": [],
   "source": [],
   "metadata": {
    "collapsed": false,
    "ExecuteTime": {
     "end_time": "2023-10-31T13:00:55.470886200Z",
     "start_time": "2023-10-31T13:00:55.455583100Z"
    }
   },
   "id": "f470443be01be5fc"
  },
  {
   "cell_type": "code",
   "execution_count": 7,
   "outputs": [],
   "source": [],
   "metadata": {
    "collapsed": false,
    "ExecuteTime": {
     "end_time": "2023-10-31T13:00:55.479035Z",
     "start_time": "2023-10-31T13:00:55.466632100Z"
    }
   },
   "id": "9b586cfd0e9f42b4"
  },
  {
   "cell_type": "code",
   "execution_count": 7,
   "outputs": [],
   "source": [],
   "metadata": {
    "collapsed": false,
    "ExecuteTime": {
     "end_time": "2023-10-31T13:00:55.501044600Z",
     "start_time": "2023-10-31T13:00:55.473191700Z"
    }
   },
   "id": "8eb858c77d855d18"
  }
 ],
 "metadata": {
  "kernelspec": {
   "display_name": "Python 3",
   "language": "python",
   "name": "python3"
  },
  "language_info": {
   "codemirror_mode": {
    "name": "ipython",
    "version": 2
   },
   "file_extension": ".py",
   "mimetype": "text/x-python",
   "name": "python",
   "nbconvert_exporter": "python",
   "pygments_lexer": "ipython2",
   "version": "2.7.6"
  }
 },
 "nbformat": 4,
 "nbformat_minor": 5
}
