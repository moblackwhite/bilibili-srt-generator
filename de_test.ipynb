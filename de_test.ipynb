{
 "cells": [
  {
   "cell_type": "code",
   "execution_count": 3,
   "outputs": [],
   "source": [
    "import time\n",
    "%load_ext autoreload\n",
    "%autoreload 2"
   ],
   "metadata": {
    "collapsed": false,
    "ExecuteTime": {
     "end_time": "2023-11-04T05:44:01.912908500Z",
     "start_time": "2023-11-04T05:44:01.860805200Z"
    }
   },
   "id": "3362a92c8f411ad1"
  },
  {
   "cell_type": "code",
   "execution_count": 4,
   "id": "initial_id",
   "metadata": {
    "collapsed": true,
    "ExecuteTime": {
     "end_time": "2023-11-04T05:44:02.032459600Z",
     "start_time": "2023-11-04T05:44:01.909913900Z"
    }
   },
   "outputs": [],
   "source": [
    "from selenium import webdriver\n",
    "from bilibili_base_obj import BiliBiliSeries, BiliBiliVideo\n",
    "import re\n",
    "import threading"
   ]
  },
  {
   "cell_type": "code",
   "execution_count": 5,
   "outputs": [],
   "source": [
    "from bilibili_audio_downloader import get_information, get_audio"
   ],
   "metadata": {
    "collapsed": false,
    "ExecuteTime": {
     "end_time": "2023-11-04T05:44:02.110761Z",
     "start_time": "2023-11-04T05:44:02.033460Z"
    }
   },
   "id": "7dad294027683fc8"
  },
  {
   "cell_type": "code",
   "execution_count": 6,
   "outputs": [],
   "source": [
    "driver = webdriver.Chrome()\n",
    "driver.implicitly_wait(5)  # seconds"
   ],
   "metadata": {
    "collapsed": false,
    "ExecuteTime": {
     "end_time": "2023-11-04T05:44:05.186800500Z",
     "start_time": "2023-11-04T05:44:02.110761Z"
    }
   },
   "id": "303600772e37a0cc"
  },
  {
   "cell_type": "code",
   "execution_count": 7,
   "outputs": [],
   "source": [
    "bbs = BiliBiliSeries('1567748478', '358497')\n",
    "videos_info = bbs.videos"
   ],
   "metadata": {
    "collapsed": false,
    "ExecuteTime": {
     "end_time": "2023-11-04T05:44:22.954361900Z",
     "start_time": "2023-11-04T05:44:05.187801300Z"
    }
   },
   "id": "a7cac0be220b83ca"
  },
  {
   "cell_type": "code",
   "execution_count": 8,
   "outputs": [],
   "source": [
    "def get_bv_from_url(url):\n",
    "    # regex\n",
    "    pattern = r'/BV([\\w]+)'\n",
    "    match = re.search(pattern, url)\n",
    "    return 'BV' + match.group(1)"
   ],
   "metadata": {
    "collapsed": false,
    "ExecuteTime": {
     "end_time": "2023-11-04T05:44:23.002663600Z",
     "start_time": "2023-11-04T05:44:22.955373100Z"
    }
   },
   "id": "b9276239d3bf7183"
  },
  {
   "cell_type": "code",
   "execution_count": 9,
   "outputs": [],
   "source": [
    "for v_info in videos_info:\n",
    "    url = v_info['href']\n",
    "    bv = get_bv_from_url(url)\n",
    "\n",
    "    video = BiliBiliVideo(bv, driver)\n",
    "    v_info.update(video.sub_video_list)\n"
   ],
   "metadata": {
    "collapsed": false,
    "ExecuteTime": {
     "end_time": "2023-11-04T05:47:25.238381800Z",
     "start_time": "2023-11-04T05:44:23.002758700Z"
    }
   },
   "id": "81c3f1f8bca0881d"
  },
  {
   "cell_type": "code",
   "execution_count": 15,
   "outputs": [],
   "source": [
    "def download_video(v_info):\n",
    "    bv = get_bv_from_url(v_info['href'])\n",
    "    if v_info['multi_page']:\n",
    "        bv_list = []\n",
    "        sub_title_list = []\n",
    "        for i in range(len(v_info['sub_videos'])):\n",
    "            bv_list.append(bv + '-{}'.format(i + 1))\n",
    "            sub_title_list.append(v_info['sub_videos'][i]['title'])\n",
    "        get_audio(get_information(bv_list), sub_title_list)\n",
    "    else:\n",
    "        get_audio(get_information([bv]))"
   ],
   "metadata": {
    "collapsed": false,
    "ExecuteTime": {
     "end_time": "2023-11-04T05:53:32.770531600Z",
     "start_time": "2023-11-04T05:53:32.720443800Z"
    }
   },
   "id": "2a88d47a4e135526"
  },
  {
   "cell_type": "code",
   "execution_count": 12,
   "outputs": [],
   "source": [
    "t = BiliBiliVideo('BV1HV4y1q7Pf', driver)"
   ],
   "metadata": {
    "collapsed": false,
    "ExecuteTime": {
     "end_time": "2023-11-04T05:53:00.759559500Z",
     "start_time": "2023-11-04T05:53:00.688543400Z"
    }
   },
   "id": "17ee2642a4b28579"
  },
  {
   "cell_type": "code",
   "execution_count": 17,
   "outputs": [],
   "source": [
    "v_info = t.sub_video_list"
   ],
   "metadata": {
    "collapsed": false,
    "ExecuteTime": {
     "end_time": "2023-11-04T05:53:56.353179700Z",
     "start_time": "2023-11-04T05:53:54.585448500Z"
    }
   },
   "id": "39bb4d7f821e4eea"
  },
  {
   "cell_type": "code",
   "execution_count": 18,
   "outputs": [],
   "source": [
    "v_info['href'] = 'https://www.bilibili.com/video/BV1HV4y1q7Pf/'"
   ],
   "metadata": {
    "collapsed": false,
    "ExecuteTime": {
     "end_time": "2023-11-04T05:54:06.692641500Z",
     "start_time": "2023-11-04T05:54:06.655473600Z"
    }
   },
   "id": "bca022fadccb1e85"
  },
  {
   "cell_type": "code",
   "execution_count": 23,
   "outputs": [
    {
     "data": {
      "text/plain": "{'multi_page': True,\n 'sub_videos': [{'title': 'self-attention(上)'},\n  {'title': 'self-attention(下)'}],\n 'href': 'https://www.bilibili.com/video/BV1HV4y1q7Pf/'}"
     },
     "execution_count": 23,
     "metadata": {},
     "output_type": "execute_result"
    }
   ],
   "source": [
    "v_info"
   ],
   "metadata": {
    "collapsed": false,
    "ExecuteTime": {
     "end_time": "2023-11-04T05:54:43.618554700Z",
     "start_time": "2023-11-04T05:54:43.565941Z"
    }
   },
   "id": "5df0b98756138899"
  },
  {
   "cell_type": "code",
   "execution_count": 24,
   "outputs": [
    {
     "name": "stdout",
     "output_type": "stream",
     "text": [
      "1.2 seconds download finish: Transformer手撕代码Pytorch实现- P1 - self-attention(上) .mp3\n",
      "12.41 seconds download finish: Transformer手撕代码Pytorch实现- P2 - self-attention(下) .mp3\n"
     ]
    }
   ],
   "source": [
    "download_video(v_info)"
   ],
   "metadata": {
    "collapsed": false,
    "ExecuteTime": {
     "end_time": "2023-11-04T05:54:59.703916900Z",
     "start_time": "2023-11-04T05:54:43.821530900Z"
    }
   },
   "id": "a03b4235b291f425"
  },
  {
   "cell_type": "code",
   "execution_count": null,
   "outputs": [],
   "source": [],
   "metadata": {
    "collapsed": false
   },
   "id": "de789e698dfd46b5"
  },
  {
   "cell_type": "code",
   "execution_count": 1,
   "outputs": [],
   "source": [],
   "metadata": {
    "collapsed": false,
    "ExecuteTime": {
     "end_time": "2023-11-04T05:43:53.259515800Z",
     "start_time": "2023-11-04T05:43:53.209248Z"
    }
   },
   "id": "ede73429bba90d70"
  },
  {
   "cell_type": "code",
   "execution_count": 2,
   "outputs": [
    {
     "ename": "NameError",
     "evalue": "name 'videos_info' is not defined",
     "output_type": "error",
     "traceback": [
      "\u001B[1;31m---------------------------------------------------------------------------\u001B[0m",
      "\u001B[1;31mNameError\u001B[0m                                 Traceback (most recent call last)",
      "Cell \u001B[1;32mIn[2], line 8\u001B[0m\n\u001B[0;32m      2\u001B[0m \u001B[38;5;66;03m# 最大线程数\u001B[39;00m\n\u001B[0;32m      3\u001B[0m \u001B[38;5;66;03m# max_threads = 4\u001B[39;00m\n\u001B[0;32m      4\u001B[0m \n\u001B[0;32m      5\u001B[0m \u001B[38;5;66;03m# 创建线程池\u001B[39;00m\n\u001B[0;32m      6\u001B[0m threads \u001B[38;5;241m=\u001B[39m []\n\u001B[1;32m----> 8\u001B[0m \u001B[38;5;28;01mfor\u001B[39;00m v_info \u001B[38;5;129;01min\u001B[39;00m \u001B[43mvideos_info\u001B[49m:\n\u001B[0;32m      9\u001B[0m     \u001B[38;5;66;03m# 创建并启动线程\u001B[39;00m\n\u001B[0;32m     10\u001B[0m     thread \u001B[38;5;241m=\u001B[39m threading\u001B[38;5;241m.\u001B[39mThread(target\u001B[38;5;241m=\u001B[39mdownload_video, args\u001B[38;5;241m=\u001B[39m(v_info,))\n\u001B[0;32m     11\u001B[0m     threads\u001B[38;5;241m.\u001B[39mappend(thread)\n",
      "\u001B[1;31mNameError\u001B[0m: name 'videos_info' is not defined"
     ]
    }
   ],
   "source": [
    "import time\n",
    "# 最大线程数\n",
    "# max_threads = 4\n",
    "\n",
    "# 创建线程池\n",
    "threads = []\n",
    "\n",
    "for v_info in videos_info:\n",
    "    # 创建并启动线程\n",
    "    thread = threading.Thread(target=download_video, args=(v_info,))\n",
    "    threads.append(thread)\n",
    "    thread.start()\n",
    "    \n",
    "    time.sleep(1)\n",
    "\n",
    "# 等待所有线程完成\n",
    "for thread in threads:\n",
    "    thread.join()\n",
    "\n",
    "# 所有线程已完成\n",
    "print(\"所有视频处理完成\")"
   ],
   "metadata": {
    "collapsed": false,
    "ExecuteTime": {
     "end_time": "2023-11-04T05:43:53.524827500Z",
     "start_time": "2023-11-04T05:43:53.223756400Z"
    }
   },
   "id": "91a72ca5a17034bd"
  },
  {
   "cell_type": "code",
   "execution_count": null,
   "outputs": [],
   "source": [
    "videos_info"
   ],
   "metadata": {
    "collapsed": false,
    "ExecuteTime": {
     "start_time": "2023-11-04T05:43:53.518825600Z"
    }
   },
   "id": "e951489b9b9298b0"
  },
  {
   "cell_type": "code",
   "execution_count": null,
   "outputs": [],
   "source": [],
   "metadata": {
    "collapsed": false,
    "ExecuteTime": {
     "start_time": "2023-11-04T05:43:53.520825700Z"
    }
   },
   "id": "a128dc2b5ecd1f2d"
  },
  {
   "cell_type": "code",
   "execution_count": null,
   "outputs": [],
   "source": [],
   "metadata": {
    "collapsed": false,
    "ExecuteTime": {
     "start_time": "2023-11-04T05:43:53.522826100Z"
    }
   },
   "id": "8d9613d13ba6d46c"
  },
  {
   "cell_type": "code",
   "execution_count": null,
   "outputs": [],
   "source": [],
   "metadata": {
    "collapsed": false,
    "ExecuteTime": {
     "start_time": "2023-11-04T05:43:53.523826700Z"
    }
   },
   "id": "f470443be01be5fc"
  },
  {
   "cell_type": "code",
   "execution_count": null,
   "outputs": [],
   "source": [],
   "metadata": {
    "collapsed": false,
    "ExecuteTime": {
     "end_time": "2023-11-04T05:43:53.525826500Z",
     "start_time": "2023-11-04T05:43:53.525826500Z"
    }
   },
   "id": "9b586cfd0e9f42b4"
  },
  {
   "cell_type": "code",
   "execution_count": null,
   "outputs": [],
   "source": [],
   "metadata": {
    "collapsed": false,
    "ExecuteTime": {
     "start_time": "2023-11-04T05:43:53.526826800Z"
    }
   },
   "id": "8eb858c77d855d18"
  }
 ],
 "metadata": {
  "kernelspec": {
   "display_name": "Python 3",
   "language": "python",
   "name": "python3"
  },
  "language_info": {
   "codemirror_mode": {
    "name": "ipython",
    "version": 2
   },
   "file_extension": ".py",
   "mimetype": "text/x-python",
   "name": "python",
   "nbconvert_exporter": "python",
   "pygments_lexer": "ipython2",
   "version": "2.7.6"
  }
 },
 "nbformat": 4,
 "nbformat_minor": 5
}
